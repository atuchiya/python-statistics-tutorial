{
 "cells": [
  {
   "cell_type": "markdown",
   "metadata": {},
   "source": [
    "# 付録1：乱数の話\n",
    "\n",
    "自然界にランダムな事象はたくさんあるが，計算機上で「きちんとした」乱数を作るのは実は簡単ではない．プログラムによって生成している以上，生成される数列は確定的なものになってしまう．このような数列を**擬似乱数列**と呼ぶ．計算機上で乱数を扱うときは，その乱数がどのぐらい「きちんとしているか」を気にしておく必要がある．特に暗号の分野では乱数の性質によっては簡単に解読されてしまうため，熱雑音など自然界のランダム性を取り込むハードウェアを使うこともある．"
   ]
  },
  {
   "cell_type": "markdown",
   "metadata": {},
   "source": [
    "## 線形合同法\n",
    "\n",
    "擬似乱数生成の古典的手法の代表が**線形合同法**である．より古くは2乗中抜き法 (平方採中法) などもある．線形合同法は漸化式\n",
    "$$X_{n+1} = \\left(A\\times X_n + B\\right)\\mod M$$\n",
    "で与えられる．ただし $M>A$，$M>B$，$A>0$，$B\\ge 0$ であり，$B=0$の場合を乗算合同法と呼ぶこともある．\n",
    "\n",
    "$X_0$ を乱数の種と呼ぶ．$X_n$だけから$X_{n+1}$が決まるので，同じ数がでてきたらその後は同じ数列が繰り返されることになる．この数列の長さを周期と言い，長い方が好ましい．"
   ]
  },
  {
   "cell_type": "code",
   "execution_count": 133,
   "metadata": {},
   "outputs": [
    {
     "name": "stdout",
     "output_type": "stream",
     "text": [
      "0 51 77 28 8 75 22 117 21 114 12 87 58 98 91 70 7 72 13 90 67 125 45 59 101 100 97 88 61 107 118 24 123 39 41 47 65 119 27 5 66 122 36 32 20 111 3 60 104 109 124 42 50 74 19 108 121 33 23 120 30 14 93 76 25 126 48 68 1 54 86 55 89 64 116 18 105 112 6 69 4 63 113 9 78 31 17 102 103 106 115 15 96 85 52 80 37 35 29 11 84 49 71 10 81 40 44 56 92 73 16 99 94 79 34 26 2 57 95 82 43 53 83 46 62 110 0 51 77 28 8 75 22 117 21 114 12 87 58 98 91 70 7 72 13 90 67 125 45 59 \n",
      "period = 126\n"
     ]
    }
   ],
   "source": [
    "# 乱数の種\n",
    "r_seed = 0\n",
    "# 定数\n",
    "A = 3\n",
    "B = 51\n",
    "M = 127\n",
    "# 数列長\n",
    "n_max = 150\n",
    "\n",
    "period = 0\n",
    "\n",
    "x = r_seed\n",
    "x_1 = (A * x + B) % M\n",
    "for i in range(n_max):\n",
    "    print(\"{} \".format(x), end=\"\")\n",
    "    if x == x_1 and period <= 1:\n",
    "        period = i - 1\n",
    "\n",
    "    x = (A * x + B) % M\n",
    "        \n",
    "print(\"\\nperiod = {}\".format(period))"
   ]
  },
  {
   "cell_type": "markdown",
   "metadata": {},
   "source": [
    "線形合同法による乱数列は定数の組み合わせに強く左右される．\n",
    "- 周期の最大は $M$ になる．例えば $(A, B, M)=(7, 5, 27)$．\n",
    "- 設定によっては周期は短くなる．例えば $(A, B, M) = (7, 5, 28)$．\n",
    "- 乱数の種は1回しか出てこない場合もある．例えば$(A, B, M) = (7, 5, 21)$．また，$(A, B, M)=(8, 5, 32)$ では3つ目からずっと同じ数字が出続ける．\n",
    "- 最下位ビットが特定のパターンに陥りやすい．特に，$M$を偶数にした場合は必ず単純なパターンに陥る．例えば $(A, B, M) = (7, 6, 26)$ では偶数しか出ない．$(A, B, M)=(8, 5, 28)$では奇数しか出ない．$(A, B, M) = (7, 5, 26)$ では偶数と奇数が交互に出る．\n",
    "\n",
    "***下位kビットを見ると周期は高々$2^k$になる．← 本当か？***\n",
    "\n",
    "なお周期が最大 ($M$) になる条件は分かっており\n",
    "- $B$と$M$が互いに素\n",
    "- $A-1$ が，$M$の素因数全てで割り切れる\n",
    "- $M$ が4の倍数である場合は，$A-1$も4の倍数である\n",
    "\n",
    "を満たせばよい．$B=0$ の場合は0が出た時点でその後はずっと0しか出ないため，$B=0$ では最大の周期は $M-1$ である．\n",
    "\n",
    "適切な定数の組み合わせにはいくつかあり，有名なものは Park & Miller の $(A, B, M) = (48,271, 0, 2^{31}-1)$ など．独自に決める場合は，下位ビットの規則性を回避するために下位数ビットを切り捨てるなどの処置をすることが多い．"
   ]
  },
  {
   "cell_type": "markdown",
   "metadata": {},
   "source": [
    "この線形合同法の弱点に関連するちょっとしたエピソードとして，2006年に発売されたとあるコンピュータゲームで，「サイコロが必ず奇数と偶数を交互に出す」という現象があった．上の説明の通り，線形合同法で最下位ビットは規則的な出力になるため，このゲームは線形合同法の既知の問題を潰さずに実装したのではないか，と言われた (別のバグが原因との説もあり，真相は不明)．"
   ]
  },
  {
   "cell_type": "markdown",
   "metadata": {},
   "source": [
    "また，もう一つの弱点として多次元で分布が規則的になるという性質がある．$(A,B,M)=(3,51,127)$は周期126の乱数を生成するが，\n",
    "生成された乱数列を $(x_0, x_1)$，$(x_2, x_3)$，$(x_4, x_5)$ ... のように組にしてプロットしてみると，下のようになる．明らかに規則性が見てとれるため，線形合同法の乱数を多次元で使うことはできない．\n"
   ]
  },
  {
   "cell_type": "code",
   "execution_count": 135,
   "metadata": {},
   "outputs": [
    {
     "data": {
      "image/png": "[encoded data removed]",
      "text/plain": [
       "<Figure size 432x288 with 1 Axes>"
      ]
     },
     "metadata": {
      "needs_background": "light"
     },
     "output_type": "display_data"
    }
   ],
   "source": [
    "# 種\n",
    "r_seed = 19\n",
    "# 定数 from Park & Miller\n",
    "A = 3\n",
    "B = 51\n",
    "M = 127\n",
    "# 点数\n",
    "n_max = 10000\n",
    "\n",
    "from matplotlib import pyplot\n",
    "\n",
    "x = []\n",
    "y = []\n",
    "r = r_seed\n",
    "for i in range(n_max):\n",
    "    x.append(r)\n",
    "    r = (A * r+B) % M\n",
    "    y.append(r)\n",
    "    r = (A * r+B) % M\n",
    "    \n",
    "pyplot.scatter(x,y, s=1)\n",
    "pyplot.show()"
   ]
  },
  {
   "cell_type": "markdown",
   "metadata": {},
   "source": [
    "## 線形帰還シフトレジスタ (LFSR)\n",
    "\n",
    "線形合同法よりもよい乱数を得る方法が線形帰還シフトレジスタである．回路設計の人にとってはLFSRよりも**PRBS** (Psudo-Random Bit Sequence，擬似ランダムビット列)と言った方がなじみが深いかも知れない．アイパターンやビットエラーレートを求めるときに使うPRBSである．シフトレジスタとXORだけで実装可能という利点がある．\n",
    "\n",
    "LFSRはシフトレジスタからいくつかのビットを取り出し，それらのXORを取って入力に戻すことで実現する．入力に戻すビットをタップと呼び，タップ位置のリストをタップシーケンスと呼ぶ．LFSRではタップシーケンスの選び方によって生成される乱数列の周期が変わる．なお全ビットが0になるとその後は0しか出て来ないため，最大周期はシフトレジスタのビット長さ$N$に対して$2^N-1$となる．\n"
   ]
  },
  {
   "cell_type": "code",
   "execution_count": 101,
   "metadata": {},
   "outputs": [
    {
     "data": {
      "image/png": "[encoded data removed]",
      "text/plain": [
       "<Figure size 432x288 with 1 Axes>"
      ]
     },
     "metadata": {
      "needs_background": "light"
     },
     "output_type": "display_data"
    }
   ],
   "source": [
    "# シフトレジスタのビット数\n",
    "bits = 16\n",
    "# タップシーケンス (左端が1)\n",
    "taps = [11,13,14,16]\n",
    "msb = taps.pop(-1)\n",
    "# 種 (ランダム)\n",
    "import numpy\n",
    "sr = numpy.random.randint(0,2,16).tolist()\n",
    "# 出力長\n",
    "n_max = 100\n",
    "\n",
    "y = []\n",
    "\n",
    "for i in range(n_max):\n",
    "  #    print(int(\"\".join(map(str,sr)), 2))\n",
    "    y.append(int(\"\".join(map(str,sr)), 2))\n",
    "    fb = sr[msb - 1]\n",
    "    for t in taps:\n",
    "        fb = fb ^ sr[t-1]\n",
    "    sr.pop(-1)\n",
    "    sr.insert(0, fb)\n",
    "\n",
    "pyplot.scatter(range(n_max), y)\n",
    "pyplot.show()"
   ]
  },
  {
   "cell_type": "markdown",
   "metadata": {},
   "source": [
    "値はランダムに散らばっているように見えるが，一部に0もしくは最大値に向かって単調に減少/増加する部分が見える．これが線形フィードバックシフトレジスタ全般の弱点で，レジスタの値で0または1が極端に多くなった場合に変化が単調になる．種の値を1か0で埋めつくした場合に出力される値と，レジスタ中の0の個数をプロットすると，以下のようになる．"
   ]
  },
  {
   "cell_type": "code",
   "execution_count": 112,
   "metadata": {},
   "outputs": [
    {
     "data": {
      "image/png": "[encoded data removed]",
      "text/plain": [
       "<Figure size 432x288 with 1 Axes>"
      ]
     },
     "metadata": {
      "needs_background": "light"
     },
     "output_type": "display_data"
    },
    {
     "data": {
      "image/png": "[encoded data removed]",
      "text/plain": [
       "<Figure size 432x288 with 1 Axes>"
      ]
     },
     "metadata": {
      "needs_background": "light"
     },
     "output_type": "display_data"
    }
   ],
   "source": [
    "# シフトレジスタのビット数\n",
    "bits = 16\n",
    "# タップシーケンス (左端が1)\n",
    "taps = [11,13,14,16]\n",
    "msb = taps.pop(-1)\n",
    "# 種\n",
    "# (全部1)\n",
    "sr = [1] * bits\n",
    "# (左端以左外0)\n",
    "#sr = [0] * bits\n",
    "#sr[0] = 1\n",
    "\n",
    "# 出力長\n",
    "n_max = 100\n",
    "\n",
    "y = []\n",
    "y2 = []\n",
    "\n",
    "for i in range(n_max):\n",
    "    y.append(int(\"\".join(map(str,sr)), 2))\n",
    "    y2.append(sr.count(0))\n",
    "    fb = sr[msb - 1]\n",
    "    for t in taps:\n",
    "        fb = fb ^ sr[t-1]\n",
    "    sr.pop(-1)\n",
    "    sr.insert(0, fb)\n",
    "    \n",
    "pyplot.scatter(range(n_max), y)\n",
    "pyplot.show()\n",
    "pyplot.plot(range(n_max), y2)\n",
    "pyplot.show()"
   ]
  },
  {
   "cell_type": "markdown",
   "metadata": {},
   "source": [
    "1で埋めた場合は0の個数が単調に増加し，0が多い場合はしばらく0の個数が一定で，その後単調に下がることが分かる．\n",
    "\n",
    "これは少数のタップで左端のレジスタを更新するため，一度同じ値で埋めつくされてしまうと変化が全てのレジスタに行き渡るのに時間がかかるためである．特に0が多数を占める場合にはフィードバックされる値も0になり，しばらく零超過状態が続く．これは後述のメルセンヌツイスタにも共通する問題で，種の生成に注意しなければならない．(メルセンヌツイスタの種は19936ビットあるので，変な種を使ってしまうと超過状態からの脱出にはすごく時間がかかる．)"
   ]
  },
  {
   "cell_type": "markdown",
   "metadata": {},
   "source": [
    "## Pythonのrandom() — メルセンヌツイスタ\n",
    "\n",
    "これまで使ってきた Python の `random()` は大丈夫なのだろうか？ Python の `random()` は比較的新しい手法である**メルセンヌツイスタ**を使っているので，安心して使ってよい．周期は$2^{19937}-1$という長さである．ちなみに$2^{19937}-1$は24番目のメルセンヌ素数で，だいたい$4.3\\times 10^{6002}$ぐらい．線形合同法にあったような多次元での規則性も623次元まで問題ない．その他統計的性質も真の乱数に近く，すべての diehard tests をクリアする．(ただし暗号に使うのはマズい．)"
   ]
  },
  {
   "cell_type": "markdown",
   "metadata": {},
   "source": [
    "xorshift"
   ]
  },
  {
   "cell_type": "markdown",
   "metadata": {},
   "source": [
    "一方で，真にランダムな乱数は人間の主観的には偏って見える，という研究もある．\n",
    "\n",
    "http://www.jaist.ac.jp/is/labs/ikeda-lab/rs_randomgeneration.html\n",
    "http://blog.livedoor.jp/lunarmodule7/archives/4523745.html"
   ]
  },
  {
   "cell_type": "code",
   "execution_count": null,
   "metadata": {},
   "outputs": [],
   "source": []
  }
 ],
 "metadata": {
  "kernelspec": {
   "display_name": "Python 3",
   "language": "python",
   "name": "python3"
  },
  "language_info": {
   "codemirror_mode": {
    "name": "ipython",
    "version": 3
   },
   "file_extension": ".py",
   "mimetype": "text/x-python",
   "name": "python",
   "nbconvert_exporter": "python",
   "pygments_lexer": "ipython3",
   "version": "3.6.7"
  }
 },
 "nbformat": 4,
 "nbformat_minor": 2
}
