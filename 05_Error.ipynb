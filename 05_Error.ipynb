{
 "cells": [
  {
   "cell_type": "markdown",
   "metadata": {},
   "source": [
    "# 誤差\n",
    "\n",
    "統計による推定は，どのぐらい間違っているかがきちんと評価できるところが重要かつ有用である．その評価方法を紹介する．\n",
    "\n",
    "標準誤差とは"
   ]
  },
  {
   "cell_type": "markdown",
   "metadata": {},
   "source": [
    "## 平均値の標準誤差\n",
    "\n",
    "母集団の平均値と標本群の平均値がどのぐらい離れているかは，以下の式で計算できる．\n",
    "$$\\frac{\\sigma}{\\sqrt{N_s}}$$\n",
    "標本数が増えていくと平均値の標準誤差は減っていき，標本数無限大で0になる．"
   ]
  },
  {
   "cell_type": "markdown",
   "metadata": {},
   "source": [
    "## 比率の標準誤差\n",
    "\n",
    "標本を抽出してその結果を比率 $r$ で表現する場合，その比率の標準誤差は\n",
    "$$\\sqrt{\\frac{r(1-r)}{N_s}}$$\n",
    "となる．\n",
    "\n",
    "これは実は平均値の標準誤差と同じである．なぜなら $r(1-r)$は比率の分散であり，比率の標準偏差の2乗なので，$\\sigma/\\sqrt{N_s}$と同じことだ．\n"
   ]
  },
  {
   "cell_type": "markdown",
   "metadata": {},
   "source": [
    "## 推定値の標準誤差\n",
    "\n",
    "回帰分析による推定値が実際の結果からどのぐらい離れているかは，標準偏差 $\\sigma$ と相関係数 $\\rho$ で\n",
    "$$\\sigma\\sqrt{1 - \\rho^2}$$\n",
    "と表すことができる．\n",
    "つまり相関係数が1であれば標準偏差がどのような値であれ，標準誤差は0になる．\n",
    "\n",
    "なお，より正確には推定値の標準誤差は\n",
    "$$\\sigma\\sqrt{(1-\\rho^2)\\frac{N_s - 1}{N_s - 2}}$$\n",
    "であるが，$N_s$ が十分に大きければ $(N_s - 1)/(N_s - 2)$ は無視できる．\n"
   ]
  },
  {
   "cell_type": "code",
   "execution_count": null,
   "metadata": {},
   "outputs": [],
   "source": []
  }
 ],
 "metadata": {
  "kernelspec": {
   "display_name": "Python 3",
   "language": "python",
   "name": "python3"
  },
  "language_info": {
   "codemirror_mode": {
    "name": "ipython",
    "version": 3
   },
   "file_extension": ".py",
   "mimetype": "text/x-python",
   "name": "python",
   "nbconvert_exporter": "python",
   "pygments_lexer": "ipython3",
   "version": "3.6.7"
  }
 },
 "nbformat": 4,
 "nbformat_minor": 2
}
