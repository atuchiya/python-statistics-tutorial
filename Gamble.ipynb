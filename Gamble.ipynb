{
 "cells": [
  {
   "cell_type": "markdown",
   "metadata": {},
   "source": [
    "# ギャンブルの確率\n"
   ]
  },
  {
   "cell_type": "markdown",
   "metadata": {},
   "source": [
    "## ギャンブラーの誤謬\n",
    "\n",
    "ギャンブラーの誤謬 (Gambler's fallacy) とは，直近の事象に偏りがあるとき，次に起こる事象の確率を過大もしくは過小に評価してしまうことを言う．\n",
    "\n",
    "表と裏がそれぞれ1/2の確率ででるコインを投げたとき，表が連続で5回出たとする．\n",
    "このとき，次に裏が出る確率が高いと信じてしまうのがギャンブラーの誤謬である．\n",
    "\n",
    "- 表と裏は等しい確率で出現する\n",
    "- つまり，ある期間に表の出る数と裏の出る数は等しくなるはずである\n",
    "- 今，表の数が多く出ているので，均衡を保つために次は裏になるはずだ\n",
    "\n",
    "もちろんこれは間違いで，試行は全て独立であるから表が出る確率も裏が出る確率も1/2である．\n",
    "\n"
   ]
  },
  {
   "cell_type": "markdown",
   "metadata": {},
   "source": [
    "なお，「成功が続いているときは，次の成功する確率が高い」という**ホットハンドの誤謬**というものもある．ただしスポーツでは必ずしも間違いでもないという説もある．詳しくは Wikipedia を参照．\n",
    "\n",
    "https://ja.wikipedia.org/wiki/%E3%83%9B%E3%83%83%E3%83%88%E3%83%8F%E3%83%B3%E3%83%89%E3%81%AE%E8%AA%A4%E8%AC%AC"
   ]
  },
  {
   "cell_type": "markdown",
   "metadata": {},
   "source": [
    "## モンティ・ホール問題\n",
    "\n"
   ]
  },
  {
   "cell_type": "code",
   "execution_count": null,
   "metadata": {},
   "outputs": [],
   "source": []
  },
  {
   "cell_type": "markdown",
   "metadata": {},
   "source": [
    "## 3囚人問題"
   ]
  },
  {
   "cell_type": "code",
   "execution_count": null,
   "metadata": {},
   "outputs": [],
   "source": []
  }
 ],
 "metadata": {
  "kernelspec": {
   "display_name": "Python 3",
   "language": "python",
   "name": "python3"
  },
  "language_info": {
   "codemirror_mode": {
    "name": "ipython",
    "version": 3
   },
   "file_extension": ".py",
   "mimetype": "text/x-python",
   "name": "python",
   "nbconvert_exporter": "python",
   "pygments_lexer": "ipython3",
   "version": "3.6.7"
  }
 },
 "nbformat": 4,
 "nbformat_minor": 2
}
