{
 "cells": [
  {
   "cell_type": "markdown",
   "metadata": {},
   "source": [
    "# 1. Pythonの基本とサイコロ\n",
    "\n",
    "\n",
    "まずは Python と jupyter の使い方に慣れつつ，確率の基本を思い出していこう．Python の文法の基本までは説明していないので，基本的なことは Python の本を読んでください．\n",
    "\n",
    "\n",
    "## Python でサイコロ\n",
    "\n",
    "確率・統計と言えばサイコロ．Python 上での作り方はいろいろあるが，ひとまず0以上1未満の浮動小数点を生成する `random()` を使って作ることができる．例えば20回サイコロを振るには下のように書ける．"
   ]
  },
  {
   "cell_type": "code",
   "execution_count": 8,
   "metadata": {},
   "outputs": [
    {
     "name": "stdout",
     "output_type": "stream",
     "text": [
      "6 5 5 2 4 1 4 1 3 2 1 2 5 3 2 2 2 4 1 6 \n"
     ]
    }
   ],
   "source": [
    "import random\n",
    "import math\n",
    "\n",
    "for i in range(20):\n",
    "    r = math.ceil(6 * random.random())\n",
    "    print(r, end=\" \")\n",
    "\n",
    "print()"
   ]
  },
  {
   "cell_type": "markdown",
   "metadata": {},
   "source": [
    "データ処理に大変強力な numpy というパッケージがあり，その機能を使っても作れる．配列，numpy の使い方については付録1を参照．"
   ]
  },
  {
   "cell_type": "code",
   "execution_count": 9,
   "metadata": {},
   "outputs": [
    {
     "name": "stdout",
     "output_type": "stream",
     "text": [
      "[2 5 6 1 6 4 6 3 6 1 3 6 2 3 1 3 4 4 1 1]\n"
     ]
    }
   ],
   "source": [
    "import numpy as np\n",
    "\n",
    "result = np.random.randint(1, 7, 20)\n",
    "\n",
    "print(result)"
   ]
  },
  {
   "cell_type": "markdown",
   "metadata": {},
   "source": [
    "さて，このサイコロはまともなサイコロだろうか？ 出る目が偏っていないか，_N_回振って確認してみよう．Python には `printf` がなく． `str.format()` を使う．`printf`的な書き方も可能で，参考までにコメントで載せておく．フォーマット文字列と変数リストの区切りが `,` ではなくて `%` なことに注意．"
   ]
  },
  {
   "cell_type": "code",
   "execution_count": 10,
   "metadata": {},
   "outputs": [
    {
     "name": "stdout",
     "output_type": "stream",
     "text": [
      "1 : 17/100 (0.170)\n",
      "2 : 16/100 (0.160)\n",
      "3 : 23/100 (0.230)\n",
      "4 : 16/100 (0.160)\n",
      "5 : 16/100 (0.160)\n",
      "6 : 12/100 (0.120)\n"
     ]
    }
   ],
   "source": [
    "# param: N - 試行回数\n",
    "N = 100\n",
    "\n",
    "count = [0,0,0,0,0,0]\n",
    "\n",
    "for i in range(N):\n",
    "    count[math.ceil(6 * random.random()) - 1] += 1\n",
    "\n",
    "for i in range(6):\n",
    "    print('{} : {}/{} ({:.3f})'.format(i+1, count[i], N, count[i]/N))\n",
    "#    print(\"%d : %d/%d (%.3f)\" % (i+1, count[i], N, count[i]/N)) # printfっぽい書き方"
   ]
  },
  {
   "cell_type": "markdown",
   "metadata": {},
   "source": [
    "$N=100$では結構偏っているようだが，回数を増やせばすべての目の出現確率は 1/6 = 0.1666... に収束するはずだ．`N` の値を変えて実行してみて，結果を確認しよう．(実は乱数が**ちゃんと**ランダムか，というのは非常に重要な問題なのだが，さしあたりここは Python の `random()` は十分に「ちゃんとした」乱数列を発生させていると信じることにしよう．詳しくは付録3を参照．)"
   ]
  },
  {
   "cell_type": "markdown",
   "metadata": {},
   "source": [
    "なお，上の実験も numpy を使うと簡単に書ける．Cなどに比べて配列の操作が強力なので，自分で実装するよりおすすめ．"
   ]
  },
  {
   "cell_type": "code",
   "execution_count": 19,
   "metadata": {},
   "outputs": [
    {
     "name": "stdout",
     "output_type": "stream",
     "text": [
      "1 : 10/100 (0.100)\n",
      "2 : 21/100 (0.210)\n",
      "3 : 11/100 (0.110)\n",
      "4 : 15/100 (0.150)\n",
      "5 : 14/100 (0.140)\n",
      "6 : 29/100 (0.290)\n"
     ]
    }
   ],
   "source": [
    "# param: N - 試行回数\n",
    "N = 100\n",
    "\n",
    "result = np.array(np.random.randint(1, 7, N))\n",
    "\n",
    "for i in range(6):\n",
    "    count = result[result==i+1].size\n",
    "    print('{} : {}/{} ({:.3f})'.format(i+1, count, N, count/N))"
   ]
  },
  {
   "cell_type": "markdown",
   "metadata": {},
   "source": [
    "## グラフを描く\n",
    "\n",
    "Python では`matplotlib`を使って様々なグラフを描くことができる．試行回数を増やしていった際に1がでる確率がどのように変わるかをプロットしてみよう．\n"
   ]
  },
  {
   "cell_type": "code",
   "execution_count": 5,
   "metadata": {},
   "outputs": [
    {
     "data": {
      "image/png": "[encoded data removed]",
      "text/plain": [
       "<Figure size 432x288 with 1 Axes>"
      ]
     },
     "metadata": {
      "needs_background": "light"
     },
     "output_type": "display_data"
    },
    {
     "data": {
      "text/plain": [
       "<Figure size 432x288 with 0 Axes>"
      ]
     },
     "metadata": {},
     "output_type": "display_data"
    }
   ],
   "source": [
    "from matplotlib import pyplot\n",
    "\n",
    "# N_max : 試行回数の上限\n",
    "N_max = 1000\n",
    "\n",
    "count = 0\n",
    "x = []\n",
    "y = []\n",
    "\n",
    "for i in range(N_max):\n",
    "    if math.ceil(6 * random.random()) == 1:\n",
    "        count += 1\n",
    "    x.append(i+1)\n",
    "    y.append(count/(i+1))\n",
    "\n",
    "pyplot.hlines([1/6], 0, N_max, \"red\")\n",
    "pyplot.plot(x,y)\n",
    "pyplot.show()\n",
    "pyplot.clf()\n"
   ]
  },
  {
   "cell_type": "markdown",
   "metadata": {},
   "source": [
    "どうやらちゃんと 0.1666... に収束しているようだが，10000回振っても結構ずれていることが分かる．(実行するたびに結果が変わるので何度か実行してみよう．)"
   ]
  },
  {
   "cell_type": "markdown",
   "metadata": {},
   "source": [
    "## サイコロの各種性質の確認\n",
    "\n",
    "練習として，サイコロのもつ性質を Python で確認してみよう．\n",
    "\n",
    "サイコロの性質についての詳細はWikipediaのサイコロの項を参照．\n",
    "https://ja.wikipedia.org/wiki/%E3%82%B5%E3%82%A4%E3%82%B3%E3%83%AD#%E5%87%BA%E7%9B%AE%E3%81%AB%E9%96%A2%E3%81%99%E3%82%8B%E5%90%84%E7%A8%AE%E3%81%AE%E5%80%A4"
   ]
  }
 ],
 "metadata": {
  "kernelspec": {
   "display_name": "Python 3",
   "language": "python",
   "name": "python3"
  },
  "language_info": {
   "codemirror_mode": {
    "name": "ipython",
    "version": 3
   },
   "file_extension": ".py",
   "mimetype": "text/x-python",
   "name": "python",
   "nbconvert_exporter": "python",
   "pygments_lexer": "ipython3",
   "version": "3.6.9"
  }
 },
 "nbformat": 4,
 "nbformat_minor": 2
}
