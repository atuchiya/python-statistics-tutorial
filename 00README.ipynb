{
 "cells": [
  {
   "cell_type": "markdown",
   "metadata": {},
   "source": [
    "# 2019年 ICD 夏の合宿「確率・統計再勉強」\n",
    "\n",
    "滋賀県立大学 土谷 亮\n",
    "\n",
    "この合宿は確率・統計をもう一度勉強してみようというのが主旨です．「もう一度」というのも，より高度な数学的な勉強ではなく基本的な性質の確認や検定を，実際にコードを書いて確認しながら見ていくことに重点を置いています．\n",
    "定性的には誰でも知っている内容を，いちいち試しながら再訪していきましょう．\n",
    "\n",
    "- 掲載している多くのコードは，**実行するたびに結果が変わります．**また，冒頭付近のパラメータを変えると結果が変わります．パラメータを変えつつ，何度も実行してどんな結果が出るか観察してみてください．\n",
    "    - 何度も手動で実行するのが面倒な人は自動化しましょう\n",
    "- 数学的な背景はあまり説明していません．統計の教科書を読みましょう．\n",
    "- Python のコードは単純で読みやすいものになるようにしたつもりです．最適なコードは目指していませんので，このサンプルコードが洗練されたエレガントなものだとは思わないようにしましょう．\n",
    "\n",
    "この資料は再配布して構いません．間違いを見付けたら教えてください．"
   ]
  },
  {
   "cell_type": "code",
   "execution_count": null,
   "metadata": {},
   "outputs": [],
   "source": []
  }
 ],
 "metadata": {
  "kernelspec": {
   "display_name": "Python 3",
   "language": "python",
   "name": "python3"
  },
  "language_info": {
   "codemirror_mode": {
    "name": "ipython",
    "version": 3
   },
   "file_extension": ".py",
   "mimetype": "text/x-python",
   "name": "python",
   "nbconvert_exporter": "python",
   "pygments_lexer": "ipython3",
   "version": "3.6.7"
  }
 },
 "nbformat": 4,
 "nbformat_minor": 2
}
