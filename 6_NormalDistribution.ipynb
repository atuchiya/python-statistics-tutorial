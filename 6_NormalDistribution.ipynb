{
 "cells": [
  {
   "cell_type": "markdown",
   "metadata": {},
   "source": [
    "# 正規分布\n",
    "\n",
    "前節では正規分布ではない場合について触れただ，やはり統計では正規分布が基本となる．なにしろ中心極限定理により，母集団の分布がどうであれ標本の平均は正規分布になることが決まっているのだ．ここでは正規分布の扱いについて詳しく見ていく．"
   ]
  },
  {
   "cell_type": "markdown",
   "metadata": {},
   "source": [
    "分布が正規分布のとき，平均値からどのぐらい離れたスコアがどのぐらいの確率で出現するかはよく知られている．\n",
    "平均値から標準偏差1個分の領域には全体の 68% が含まれる．$2\\sigma$以内には96%，$3\\sigma$以内にはほぼ全て (99.7%) となる．\n",
    "念のため確かめてみると"
   ]
  },
  {
   "cell_type": "code",
   "execution_count": 2,
   "metadata": {},
   "outputs": [
    {
     "name": "stdout",
     "output_type": "stream",
     "text": [
      "< -3sigma: 141 (0.141%)\n",
      "< -2sigma: 2100 (2.100%)\n",
      "< -1sigma: 13554 (13.554%)\n",
      "< 0sigma: 34239 (34.239%)\n",
      "< 1sigma: 34029 (34.029%)\n",
      "< 2sigma: 13653 (13.653%)\n",
      "< 3sigma: 2140 (2.140%)\n",
      "> +3sigma: 144 (0.144%)\n"
     ]
    }
   ],
   "source": [
    "import random\n",
    "\n",
    "mu = 10\n",
    "sigma = 1\n",
    "\n",
    "Ns = 100000\n",
    "cat = [0,0,0,0,0,0,0]\n",
    "\n",
    "for s in range(Ns):\n",
    "    x = random.gauss(mu, sigma)\n",
    "    for c in range(7):\n",
    "        if (x < mu + sigma * (c-3) ):\n",
    "            cat[c] += 1\n",
    "            break\n",
    "\n",
    "for c in range(7):\n",
    "    print(\"< %dsigma: %d (%.3f%%)\" % (c-3, cat[c], cat[c]/Ns * 100) )\n",
    "    \n",
    "print(\"> +3sigma: %d (%.3f%%)\" % (Ns - sum(cat), (Ns - sum(cat))/Ns * 100) )"
   ]
  },
  {
   "cell_type": "markdown",
   "metadata": {},
   "source": [
    "サンプル数が十分に大きければ当然ながら理論通りになる．平均値$\\mu$や標準偏差$\\sigma$を変えてもこの数字は変わらない．"
   ]
  },
  {
   "cell_type": "markdown",
   "metadata": {},
   "source": [
    "## Zスコア\n",
    "\n",
    "ということは，ある標本がどのぐらいレアなものなのかはスコアそのものではなく，平均値からの距離で評価するのが正しい．\n",
    "平均値からの距離を標準偏差で正規化した数値がZスコアで，\n",
    "$$Z = \\frac{X - \\mu}{\\sigma}$$\n",
    "で定義される．Zスコアの平均値は0，標準偏差は1だ．通常，Zスコアは $-3 < Z < +3$ の範囲にある．この範囲を超える確率はわずか 0.3%だ．\n",
    "(しかしトランジスタを10億個ほど集積すると，300万個も$3\\sigma$を超えてしまう．困ったものだ．)\n",
    "\n",
    "### 偏差値 (Tスコア)\n",
    "\n",
    "Zスコアを平均50，標準偏差10になるように補正したものが偏差値 (Tスコア) である．つまり偏差値80はZスコア +3 に相当するのでそうそう出現するものではない．なお偏差値は100を超えることもあれば負の値になることもある．自分のスコアと，自分以外のスコアの平均と標準偏差が与えられれば偏差値はすぐに計算できる．\n"
   ]
  },
  {
   "cell_type": "code",
   "execution_count": 42,
   "metadata": {},
   "outputs": [
    {
     "name": "stdout",
     "output_type": "stream",
     "text": [
      "Z-score: -5.98, T-score: -9.8\n"
     ]
    }
   ],
   "source": [
    "import numpy as np\n",
    "\n",
    "score = 0\n",
    "mu = 90\n",
    "sigma = 15\n",
    "Ns = 10000\n",
    "\n",
    "samples = np.random.normal(loc=mu, scale=sigma, size=Ns)\n",
    "samples = np.append(samples, score)\n",
    "\n",
    "z = (score - samples.mean()) / samples.std()\n",
    "\n",
    "print( \"Z-score: %.2f, T-score: %.1f\" % (z, z*10 + 50) )"
   ]
  },
  {
   "cell_type": "markdown",
   "metadata": {},
   "source": [
    "## パーセンタイルランク\n",
    "\n",
    "パーセンタイルランクとは，そのスコアより下に標本群全体の何%が入るかを表す．値は0から100，スコアが平均値ならパーセンタイルランクは50になる．\n",
    "言うまでもなくZスコアとパーセンタイルは対応するため変換表が作成可能である．\n",
    "\n",
    "|Zスコア|パーセンタイルランク|\n",
    "|----|----|\n",
    "|-3|0.15|\n",
    "|-2|2|\n",
    "|-1|16|\n",
    "|0|50|\n",
    "|1|84|\n",
    "|2|98|\n",
    "|3|99.85|\n",
    "\n",
    "numpy は配列から条件を満たす要素を抽出する方法が提供されているので，パーセンタイルランクを計算するのも簡単である．"
   ]
  },
  {
   "cell_type": "code",
   "execution_count": 26,
   "metadata": {},
   "outputs": [
    {
     "name": "stdout",
     "output_type": "stream",
     "text": [
      "53.0\n"
     ]
    }
   ],
   "source": [
    "import numpy as np\n",
    "\n",
    "score = 70\n",
    "\n",
    "Ns=100\n",
    "mu=70\n",
    "sigma=10\n",
    "\n",
    "samples = np.random.normal(loc=mu, scale=sigma, size=Ns)\n",
    "\n",
    "print(samples[samples < score].size / Ns * 100)"
   ]
  },
  {
   "cell_type": "markdown",
   "metadata": {},
   "source": [
    "## 正規分布の応用 : Gott の原理\n",
    "\n",
    "正規分布の応用は無数にある (というより統計で正規分布を使っていないものの方が珍しい)．ここで紹介する Gott の原理とは，\n",
    "「ある現象があとどのぐらい続くか」を予測する手法である．\n",
    "\n",
    "**Gottの原理** : ある現象が $t_{past}$ だけ続いているとすると，その現象はあと$t_{past}/n$から$n\\times t_{past}$ぐらい続く\n",
    "\n",
    "$n$は信頼区間に応じたパラメータで，信頼区間50% であれば $n=3$，60% で $n=4$，95%では$n=39$ になる．\n",
    "\n",
    "これは正規分布の性質に基づいている．その現象が正規分布に従うとすると，例えば信頼区間60%なら分布の中央60%の区間内にいると見なせる．\n",
    "つまり，60%信頼区間の下限は「まだ寿命の20%」，上限は「もう寿命の80%」になる．このことから信頼区間$P$に対して，$n$の値は\n",
    "\n",
    "$$n = \\frac{2}{1 - P} - 1$$\n",
    "\n",
    "で計算できる．40分降り続いている雨は，60%の確率であと10分～160分降り続く，ということだ．"
   ]
  },
  {
   "cell_type": "code",
   "execution_count": null,
   "metadata": {},
   "outputs": [],
   "source": []
  }
 ],
 "metadata": {
  "kernelspec": {
   "display_name": "Python 3",
   "language": "python",
   "name": "python3"
  },
  "language_info": {
   "codemirror_mode": {
    "name": "ipython",
    "version": 3
   },
   "file_extension": ".py",
   "mimetype": "text/x-python",
   "name": "python",
   "nbconvert_exporter": "python",
   "pygments_lexer": "ipython3",
   "version": "3.6.7"
  }
 },
 "nbformat": 4,
 "nbformat_minor": 2
}
