{
 "cells": [
  {
   "cell_type": "markdown",
   "metadata": {},
   "source": [
    "# Pythonと確率・統計の勉強\n",
    "\n",
    "Copyright: 土谷 亮 tsuchiya@tuchiya.org\n",
    "\n",
    "この資料は Python の使い方を学びつつ確率・統計を勉強し直すことを目的としています．\n",
    "数学的に高度な内容よりも，基本的な性質の確認や検定を実際にコードを書いて確認しながら見ていくことに重点を置いています．\n",
    "定性的には誰でも知っている内容を，いちいち試しながら再訪していきましょう．\n",
    "\n",
    "- 掲載している多くのコードは，**実行するたびに結果が変わります．**また，冒頭付近のパラメータを変えると結果が変わります．パラメータを変えつつ，何度も実行してどんな結果が出るか観察してみてください．\n",
    "    - 何度も手動で実行するのが面倒な人は自動化しましょう\n",
    "- 数学的な背景はあまり説明していません．統計の教科書を読みましょう．\n",
    "- Python のコードは単純で読みやすいものになるようにしたつもりです．最適なコードは目指していませんので，このサンプルコードが洗練されたエレガントなものだとは思わないようにしましょう．\n",
    "\n",
    "資料の最新版は GitHub から入手してください．\n",
    "https://github.com/atuchiya/python-statistics-tutorial\n"
   ]
  },
  {
   "cell_type": "markdown",
   "metadata": {},
   "source": [
    "# 参考文献\n",
    "\n",
    "- Bruce Frey 著，鴨澤 眞夫 監訳，西沢 直木 訳，\"Statistics Hacks — 統計の基本と世界を測るテクニック\"，オライリー・ジャパン，2007年．\n",
    "- \"Newton 統計の威力 (電子版)\", ニュートンプレス，2015年．\n",
    "- 高橋 昌一郎 監修，\"Newton 絵解きパラドックス 直感がはずれる確率のパラドックス (電子版)\", ニュートンプレス，2016年．\n",
    "- 喜多 一，「プログラミング演習 Python 2019」, 京都大学学術情報リポジトリ，http://hdl.handle.net/2433/245698 , Feb 2020.\n",
    "- Wes McKinney 著，瀬戸山 雅人，小林 儀匡，滝口 開資 訳, \"Pythonによるデータ分析入門\", 第2版，オライリージャパン，2018．"
   ]
  },
  {
   "cell_type": "code",
   "execution_count": null,
   "metadata": {},
   "outputs": [],
   "source": []
  }
 ],
 "metadata": {
  "kernelspec": {
   "display_name": "Python 3",
   "language": "python",
   "name": "python3"
  },
  "language_info": {
   "codemirror_mode": {
    "name": "ipython",
    "version": 3
   },
   "file_extension": ".py",
   "mimetype": "text/x-python",
   "name": "python",
   "nbconvert_exporter": "python",
   "pygments_lexer": "ipython3",
   "version": "3.6.9"
  }
 },
 "nbformat": 4,
 "nbformat_minor": 2
}
