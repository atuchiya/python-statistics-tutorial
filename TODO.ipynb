{
 "cells": [
  {
   "cell_type": "markdown",
   "metadata": {},
   "source": [
    "## TODO\n",
    "\n",
    "- 期待値とモーメント，尖度と歪度の力学的説明\n",
    "- 正規性の検定\n",
    "- 標準偏差で n か n-1 か 母集団の標準偏差と標本の標準偏差の違い\n",
    "- なぜ帰無仮説が基本なのか？\n",
    "    - 対立仮説の証明 (関連性がある) と帰無仮説の証明 (関連性がない)はどちらが簡単か？\n",
    "- ROCカーブ,AUC = Wilcoxon-Mann-Whitney検定，感度/特異度\n",
    "- 「無作為」は1通りかどうか．ベルトランの逆説について．Stochastic Computing の Stochastic Number との関係\n",
    "- ギャンブルの確率\n",
    "    - ギャンブラーの誤謬\n",
    "    - ホットハンドの誤謬\n",
    "    - モンティ・ホール問題\n",
    "    - 3囚人問題\n",
    "- German Tank Problem，離散一様分布 最小分散不偏推定"
   ]
  },
  {
   "cell_type": "markdown",
   "metadata": {},
   "source": [
    "## トピック\n",
    "\n",
    "- 宝くじで儲ける方法，Winfall の宝くじでロールダウンを利用して28億円 https://gigazine.net/news/20190612-couple-wins-lottery/"
   ]
  },
  {
   "cell_type": "code",
   "execution_count": null,
   "metadata": {},
   "outputs": [],
   "source": []
  }
 ],
 "metadata": {
  "kernelspec": {
   "display_name": "Python 3",
   "language": "python",
   "name": "python3"
  },
  "language_info": {
   "codemirror_mode": {
    "name": "ipython",
    "version": 3
   },
   "file_extension": ".py",
   "mimetype": "text/x-python",
   "name": "python",
   "nbconvert_exporter": "python",
   "pygments_lexer": "ipython3",
   "version": "3.6.9"
  }
 },
 "nbformat": 4,
 "nbformat_minor": 2
}
