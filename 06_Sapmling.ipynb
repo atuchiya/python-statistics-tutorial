{
 "cells": [
  {
   "cell_type": "markdown",
   "metadata": {},
   "source": [
    "# 標本抽出と分布と平均\n",
    "\n",
    "ここまでの話はほとんどが「正規分布する母集団から無作為抽出された標本」を前提としているが，現実にはいろいろと気をつけることがある．現実的な統計を扱う際の注意点をまとめる．"
   ]
  },
  {
   "cell_type": "markdown",
   "metadata": {},
   "source": [
    "## 標本抽出の方法\n",
    "\n",
    "### 母集団\n",
    "\n",
    "**母集団全体 (general universe)** は本当に調査したい母集団，**実際に使える母集団 (working universe)** は実際に標本抽出を行なう母集団．\n",
    "両者が必ずしも一致している保証はない．\n",
    "屋久島にいる猿について調査したくても，調査が困難な場所に住んでいる猿もいる．\n",
    "\n",
    "実際に使える母集団が母集団全体に正しく対応していない場合には，当然そこから抽出した標本群も偏ることになる．\n",
    "\n",
    "### 抽出方法\n",
    "\n",
    "標本抽出において重要なのが**無作為**であるということである．無作為であるということは，**平等** かつ **独立** であると言うことができる．\n",
    "- **平等** : 母集団内の標本単位は，すべて等しい確率で抽出される\n",
    "- **独立** : 抽出される確率は，他の標本単位に無関係である\n",
    "\n",
    "つまり，アンケートを行なう際に「無作為に選んだ電話番号に電話をかける．一度回答が得られたらその番号にはもうかけない」という方法は，\n",
    "電話番号の選択が無作為であっても\n",
    "- 電話をかける時間帯に電話を取れる状況にある確率が異なる = 平等ではない\n",
    "- 家族の誰かが電話を受けると，他の家族が選択される可能性は0になる = 独立ではない\n",
    "という問題点があるので無作為抽出とは言えない．\n",
    "\n",
    "また，乱数を使って無作為抽出をしたとしても乱数生成器の精度が悪ければ偏る危険性がある．歪んだサイコロを振って抽出した結果は偏るかも知れない．\n",
    "\n",
    "現実的には，完全な無作為抽出は難しい．以下のような抽出方法がよく用いられる．\n",
    "- **便宜抽出 (無意識の標本抽出)** : 手近なところで選ぶ．ただし，「手近さ」は平等ではないかも知れない．駅前で「ランダムに」声をかけるとしても，声をかけやすそうな人を無意識に選ぶ可能性は高い．\n",
    "- **系統抽出** : リストを作成して，その中から一定のルールで選ぶ．\n",
    "- **層別抽出** : 母集団をいくつかの(意味のある)グループに分け，その小グループからランダムに選ぶ．各小グループの影響力を等しくしたい場合に用いる．\n",
    "- **集落抽出 (クラスターサンプリング)** : 小グループを抽出し，そのグループ内の標本すべてを選択する．\n",
    "- **有意抽出** : 調査目的に合うように標本を選ぶ"
   ]
  },
  {
   "cell_type": "markdown",
   "metadata": {},
   "source": [
    "## 相関関係・因果関係\n",
    "\n",
    "標本に対して何らかのテストを行なって相関関係や因果関係を議論する場合，以下のような要因が結果に影響を与える．\n",
    "これらは，慎重に排除されなければならない．\n",
    "\n",
    "- **履歴** : テストとは無関係な外部要因が無視できないほど影響する．対照群を使う，もしくは外的要因を排除する環境を作ることで排除する．\n",
    "- **成熟** : テストに慣れることで結果が変化する．対照群を設定し実験群と比較することで排除する．\n",
    "- **選択** : 抽出や振り分けがきちんと無作為になっていないかも知れない．\n",
    "- **テスト** : 事前テストによってテストの内容や目的を推測され，それが結果に影響するかも知れない．実験群・対照群両方に同じテストを行なうことで影響を等しくする．\n",
    "- **計測技術** : スコアのつけ方がおかしいかも知れない\n",
    "- **ホーソン効果** : 自身が被験者であることを意識することで結果が変化するかも知れない．二重盲検によって排除する．\n",
    "\n",
    "これをふまえて，因果関係を立証するための実験方法には以下の段階がある\n",
    "- **非実験的デザイン** : 1つの群に1回のテストを行なう．相関関係は分かるが因果関係は分からない．\n",
    "- **前実験的デザイン** : 1つの群に，事前テストと事後テストの2回のテストを行なう．\n",
    "- **準実験的デザイン** : 実験群と対照群の2つを作る．ただし無作為ではないのでグループにバイアスがかかっている可能性がある．\n",
    "- **実験的デザイン** : 実験群と対照群を作り，無作為な振り分けを行なう．グループに有意わ差異がある場合，それはテストによるものであるとできる．"
   ]
  },
  {
   "cell_type": "markdown",
   "metadata": {},
   "source": [
    "## スコアの分類\n",
    "\n",
    "標本のスコアにもいくつかの分類が可能で，どのスコアがどういう性質かを知っておく必要がある．\n",
    "\n",
    "- **名義** : ただのラベル．数字の大きさにも順番にも意味がない．「はいなら0，いいえなら1を答えてください」のようなもの．\n",
    "- **順序尺度** : 数字が順番を意味する．標本を並べることはできるが，距離は分からない．1位と2位の間が1秒でも5分でも順位は同じである．\n",
    "- **間隔尺度** : 数字がスコア同士の距離に対応する．順番と，どのぐらい離れているかが分かる．ただし，比率を扱うことはできない．摂氏20度は摂氏10度よりも10度高いが，2倍高いとは言わない．\n",
    "- **比尺度** : 「ゼロ」を持ち，比率を扱うことができる"
   ]
  },
  {
   "cell_type": "markdown",
   "metadata": {},
   "source": [
    "## アベレージ\n",
    "\n",
    "正規分布を仮定する限り，「アベレージ」の値は1つに定まる．そうでない場合には3種類のアベレージがあり，どの指標がデータの中心傾向をよく反映しているか十分に注意しなければならない．\n",
    "\n",
    "- **平均 (mean)** : すべての値の和を標本数で割ったもの\n",
    "- **中央値 (median)** : すべての標本を並べたときに，順位がちょうど真ん中になる値．つまりこの値より上と下に全標本の50%ずつが分布する．\n",
    "- **最頻値 (mode)** : 出現頻度が最も高い値 (連続量の場合は確率密度関数が極大になる点)．最頻値は複数存在することがある．\n"
   ]
  },
  {
   "cell_type": "markdown",
   "metadata": {},
   "source": [
    "### Python Tips: Numpy と Pandas\n",
    "\n",
    "Pandas では数値データ以外の扱いが柔軟にできるので，時刻や文字列を扱うには便利である．\n",
    "下の例は，あるコースのタイムの分布を扱う．「分:秒」の形式を文字列として分解して秒数に変換して並べている．\n",
    "\n",
    "平均値は`mean()`，中央値は`median()`，最頻値は`mode()`で求めることができる．"
   ]
  },
  {
   "cell_type": "code",
   "execution_count": 1,
   "metadata": {},
   "outputs": [
    {
     "data": {
      "image/png": "[encoded data removed]",
      "text/plain": [
       "<Figure size 432x288 with 1 Axes>"
      ]
     },
     "metadata": {
      "needs_background": "light"
     },
     "output_type": "display_data"
    },
    {
     "name": "stdout",
     "output_type": "stream",
     "text": [
      "680.6212121212121\n",
      "624.0\n",
      "748\n"
     ]
    }
   ],
   "source": [
    "import pandas\n",
    "import datetime\n",
    "from matplotlib import pyplot\n",
    "%matplotlib inline\n",
    "\n",
    "record = pandas.read_csv(\"./dat/kawachi-huuketsu.txt\", sep='\\t', dtype='str')\n",
    "\n",
    "def to_sec(time_str):\n",
    "    tmp = time_str.split(\":\")\n",
    "    return int(tmp[0]) * 60 + int(tmp[1])\n",
    "\n",
    "pyplot.hist(record['time'].map(to_sec), bins=30)\n",
    "pyplot.show()\n",
    "\n",
    "print(record['time'].map(to_sec).mean())\n",
    "print(record['time'].map(to_sec).median())\n",
    "print(record['time'].map(to_sec).mode()[0])"
   ]
  },
  {
   "cell_type": "code",
   "execution_count": null,
   "metadata": {},
   "outputs": [],
   "source": []
  }
 ],
 "metadata": {
  "kernelspec": {
   "display_name": "Python 3",
   "language": "python",
   "name": "python3"
  },
  "language_info": {
   "codemirror_mode": {
    "name": "ipython",
    "version": 3
   },
   "file_extension": ".py",
   "mimetype": "text/x-python",
   "name": "python",
   "nbconvert_exporter": "python",
   "pygments_lexer": "ipython3",
   "version": "3.6.7"
  }
 },
 "nbformat": 4,
 "nbformat_minor": 2
}
