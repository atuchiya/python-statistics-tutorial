{
 "cells": [
  {
   "cell_type": "markdown",
   "metadata": {},
   "source": [
    "# 付録1：乱数の話\n",
    "\n",
    "自然界にランダムな事象はたくさんあるが，計算機上で「きちんとした」乱数を作るのは実は簡単ではない．プログラムによって生成している以上，生成される数列は確定的なものになってしまう．このような数列を**擬似乱数列**と呼ぶ．計算機上で乱数を扱うときは，その乱数がどのぐらい「きちんとしているか」を気にしておく必要がある．特に暗号の分野では乱数の性質によっては簡単に解読されてしまうため，熱雑音など自然界のランダム性を取り込むハードウェアを使うこともある．"
   ]
  },
  {
   "cell_type": "markdown",
   "metadata": {},
   "source": [
    "## 線形合同法\n",
    "\n",
    "擬似乱数生成の古典的手法の代表が**線形合同法**である．より古くは2乗中抜き法などもある．"
   ]
  },
  {
   "cell_type": "markdown",
   "metadata": {},
   "source": [
    "この線形合同法の弱点に関連するちょっとしたエピソードとして，2006年に発売されたとあるコンピュータゲームで，「サイコロが必ず奇数と偶数を交互に出す」という現象がある．上の説明の通り，線形合同法で最下位ビットは規則的な出力になるため，このゲームは線形合同法の既知の問題を潰さずに実装したのではないか，と言われた (真相は不明)．"
   ]
  },
  {
   "cell_type": "markdown",
   "metadata": {},
   "source": [
    "## 線形帰還シフトレジスタ (LFSR)\n",
    "\n",
    "線形合同法よりもよい乱数を得る方法が線形帰還シフトレジスタである．おそらくLFSRよりも**PRBS** (Psudo-Random Bit Sequence，擬似ランダムビット列)と言った方がなじみが深い人も多いだろう．アイパターンやビットエラーレートを求めるときに使うPRBSである．"
   ]
  },
  {
   "cell_type": "markdown",
   "metadata": {},
   "source": [
    "## Pythonのrandom() — メルセンヌツイスタ\n",
    "\n",
    "これまで使ってきた Python の `random()` は大丈夫なのだろうか？ Python の `random()` は比較的新しい手法である**メルセンヌツイスタ**を使っているので，安心して使ってよい．周期は$2^{19937}-1$という長さである．ちなみに$2^{19937}-1$は24番目のメルセンヌ素数で，だいたい$4.3\\times 10^{6002}$ぐらい．その他統計的性質も真の乱数に近く，すべての diehard tests をクリアする．(ただし暗号に使うのはマズい．)"
   ]
  },
  {
   "cell_type": "markdown",
   "metadata": {},
   "source": [
    "xorshift"
   ]
  },
  {
   "cell_type": "markdown",
   "metadata": {},
   "source": [
    "一方で，真にランダムな乱数は人間の主観的には偏って見える，という研究もある．\n",
    "\n",
    "http://www.jaist.ac.jp/is/labs/ikeda-lab/rs_randomgeneration.html\n",
    "http://blog.livedoor.jp/lunarmodule7/archives/4523745.html"
   ]
  },
  {
   "cell_type": "code",
   "execution_count": null,
   "metadata": {},
   "outputs": [],
   "source": []
  }
 ],
 "metadata": {
  "kernelspec": {
   "display_name": "Python 3",
   "language": "python",
   "name": "python3"
  },
  "language_info": {
   "codemirror_mode": {
    "name": "ipython",
    "version": 3
   },
   "file_extension": ".py",
   "mimetype": "text/x-python",
   "name": "python",
   "nbconvert_exporter": "python",
   "pygments_lexer": "ipython3",
   "version": "3.6.7"
  }
 },
 "nbformat": 4,
 "nbformat_minor": 2
}
