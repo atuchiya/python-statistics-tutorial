{
 "cells": [
  {
   "cell_type": "markdown",
   "metadata": {},
   "source": [
    "# 付録1：Pythonの配列\n"
   ]
  },
  {
   "cell_type": "markdown",
   "metadata": {},
   "source": [
    "Python に慣れていない人向けに，配列操作の簡単な説明．\n",
    "\n",
    "## 変数の代入とコピー\n",
    "\n",
    "配列の操作に入る前に，Python における「代入」がどういう動作なのかをはっきりさせておく．配列の代入は注意しないと想定外の挙動を起こすので注意しないといけない．\n",
    "\n",
    "Python の変数への代入は，右辺オブジェクトへの**参照** が作られる，つまり，`b=a` としたとき，変数b には変数a (の指すオブジェクト) のコピーが代入されるのではなく，変数aの指すオブジェクトへの参照が代入される．次のコードを実行すると，変数 b はどうなるだろうか．"
   ]
  },
  {
   "cell_type": "code",
   "execution_count": 7,
   "metadata": {},
   "outputs": [
    {
     "name": "stdout",
     "output_type": "stream",
     "text": [
      "[1]\n"
     ]
    }
   ],
   "source": [
    "a=[1]\n",
    "b=a\n",
    "print(b)\n",
    "a.append(2)\n"
   ]
  },
  {
   "cell_type": "markdown",
   "metadata": {},
   "source": [
    "`b=a` を実行した時点での値 `[1]` になると考えた人がいるのではないだろうか．答えは"
   ]
  },
  {
   "cell_type": "code",
   "execution_count": 8,
   "metadata": {},
   "outputs": [
    {
     "name": "stdout",
     "output_type": "stream",
     "text": [
      "[1, 2]\n",
      "[1, 2]\n"
     ]
    }
   ],
   "source": [
    "print(a)\n",
    "print(b)"
   ]
  },
  {
   "cell_type": "markdown",
   "metadata": {},
   "source": [
    "`b=a` は**参照をコピー**しただけで，配列の実体は1つしかない．なので，`a.append()` で参照先のオブジェクトを変更すると当然 b が参照している内容も変わるのである．つまり，コピーを作るつもりで代入を使うと後でハマる．**値のコピー** が作りたかったら copy を使う．"
   ]
  },
  {
   "cell_type": "code",
   "execution_count": 11,
   "metadata": {},
   "outputs": [
    {
     "name": "stdout",
     "output_type": "stream",
     "text": [
      "[1, 2]\n",
      "[1]\n"
     ]
    }
   ],
   "source": [
    "import copy\n",
    "a=[1]\n",
    "b = copy.copy(a)\n",
    "a.append(2)\n",
    "print(a)\n",
    "print(b)"
   ]
  },
  {
   "cell_type": "markdown",
   "metadata": {},
   "source": [
    "copy は同じ値をもつ別のオブジェクトを作るので，a の指す配列を変更しても b の参照先はもちろん変わらない．\n",
    "\n",
    "しかしここにはもう1個落とし穴がある．オブジェクトの中に参照があった場合どうなるか，である．多次元配列の場合 copy はどういう働きをするだろうか．"
   ]
  },
  {
   "cell_type": "code",
   "execution_count": 14,
   "metadata": {},
   "outputs": [
    {
     "name": "stdout",
     "output_type": "stream",
     "text": [
      "[[1, 2], [3, 5]]\n",
      "[[1, 2], [3, 5]]\n"
     ]
    }
   ],
   "source": [
    "a=[[1,2],[3,4]]\n",
    "b=copy.copy(a)\n",
    "a[1][1]=5\n",
    "print(a)\n",
    "print(b)"
   ]
  },
  {
   "cell_type": "markdown",
   "metadata": {},
   "source": [
    "b も変わってしまった．多次元配列は，「配列への参照の配列」であるから，copy をしても配列の中に格納されている**参照**がそのままコピーされる．つまり，`[1,2]`，`[3,4]` という**オブジェクトはコピーされない**．多次元配列で値のコピーを作るには deepcopy を使う．"
   ]
  },
  {
   "cell_type": "code",
   "execution_count": 16,
   "metadata": {},
   "outputs": [
    {
     "name": "stdout",
     "output_type": "stream",
     "text": [
      "[[1, 2], [3, 5]]\n",
      "[[1, 2], [3, 4]]\n"
     ]
    }
   ],
   "source": [
    "a=[[1,2],[3,4]]\n",
    "b=copy.deepcopy(a)\n",
    "a[1][1]=5\n",
    "print(a)\n",
    "print(b)"
   ]
  },
  {
   "cell_type": "markdown",
   "metadata": {},
   "source": [
    "deepcopy は再帰的にすべての値をコピーして新しいオブジェクトを作るので，a から参照を辿れる多次元配列とは完全に別物が b に代入される．"
   ]
  },
  {
   "cell_type": "markdown",
   "metadata": {},
   "source": [
    "## データ構造の種類\n",
    "\n",
    "### タプル\n",
    "\n",
    "Python でタプル (tuple) とは変更不能なオブジェクトを指す．細かい挙動は置いておいて，配列のつもりでタプルを作ってしまわないように気をつけよう．下の書き方はエラーにもならないし一見すると普通の配列っぽい．"
   ]
  },
  {
   "cell_type": "code",
   "execution_count": 20,
   "metadata": {},
   "outputs": [
    {
     "name": "stdout",
     "output_type": "stream",
     "text": [
      "3\n"
     ]
    }
   ],
   "source": [
    "a = 1,2,3\n",
    "b = (1,2,3)\n",
    "\n",
    "print(a[2])\n"
   ]
  },
  {
   "cell_type": "markdown",
   "metadata": {},
   "source": [
    "しかし，括弧なしのコンマ区切り，および括弧 `( )` で囲むのは Python ではタプルの定義であり，値を変更することができなくなる．下の2つはいずれもエラーになる．"
   ]
  },
  {
   "cell_type": "code",
   "execution_count": 21,
   "metadata": {},
   "outputs": [
    {
     "ename": "TypeError",
     "evalue": "'tuple' object does not support item assignment",
     "output_type": "error",
     "traceback": [
      "\u001b[0;31m---------------------------------------------------------------------------\u001b[0m",
      "\u001b[0;31mTypeError\u001b[0m                                 Traceback (most recent call last)",
      "\u001b[0;32m<ipython-input-21-fdddcd2211ce>\u001b[0m in \u001b[0;36m<module>\u001b[0;34m\u001b[0m\n\u001b[0;32m----> 1\u001b[0;31m \u001b[0ma\u001b[0m\u001b[0;34m[\u001b[0m\u001b[0;36m2\u001b[0m\u001b[0;34m]\u001b[0m \u001b[0;34m=\u001b[0m \u001b[0;36m4\u001b[0m\u001b[0;34m\u001b[0m\u001b[0;34m\u001b[0m\u001b[0m\n\u001b[0m",
      "\u001b[0;31mTypeError\u001b[0m: 'tuple' object does not support item assignment"
     ]
    }
   ],
   "source": [
    "a[2] = 4"
   ]
  },
  {
   "cell_type": "code",
   "execution_count": 22,
   "metadata": {},
   "outputs": [
    {
     "ename": "TypeError",
     "evalue": "'tuple' object does not support item assignment",
     "output_type": "error",
     "traceback": [
      "\u001b[0;31m---------------------------------------------------------------------------\u001b[0m",
      "\u001b[0;31mTypeError\u001b[0m                                 Traceback (most recent call last)",
      "\u001b[0;32m<ipython-input-22-b0b7a3a863c8>\u001b[0m in \u001b[0;36m<module>\u001b[0;34m\u001b[0m\n\u001b[0;32m----> 1\u001b[0;31m \u001b[0mb\u001b[0m\u001b[0;34m[\u001b[0m\u001b[0;36m2\u001b[0m\u001b[0;34m]\u001b[0m \u001b[0;34m=\u001b[0m \u001b[0;36m4\u001b[0m\u001b[0;34m\u001b[0m\u001b[0;34m\u001b[0m\u001b[0m\n\u001b[0m",
      "\u001b[0;31mTypeError\u001b[0m: 'tuple' object does not support item assignment"
     ]
    }
   ],
   "source": [
    "b[2] = 4"
   ]
  },
  {
   "cell_type": "markdown",
   "metadata": {},
   "source": [
    "エラーがでるのですぐ分かるのだが，tuple が何のことか知らないとちょっと戸惑う．"
   ]
  },
  {
   "cell_type": "markdown",
   "metadata": {},
   "source": [
    "### リスト\n",
    "\n",
    "リストはいわゆる普通の配列．大括弧 `[ ]` で囲む．もちろん値を書き変えることができる．"
   ]
  },
  {
   "cell_type": "code",
   "execution_count": 23,
   "metadata": {},
   "outputs": [
    {
     "name": "stdout",
     "output_type": "stream",
     "text": [
      "3\n",
      "5\n"
     ]
    }
   ],
   "source": [
    "a = [1, 2, 3, 4]\n",
    "print(a[2])\n",
    "a[2] = 5\n",
    "print(a[2])"
   ]
  },
  {
   "cell_type": "markdown",
   "metadata": {},
   "source": [
    "### ディクショナリ\n",
    "\n",
    "ディクショナリはいわゆるハッシュや連想配列と呼ばれるものである．key-value のペアの集まり．中括弧 `{ }` で囲み，`key:value` を並べる．"
   ]
  },
  {
   "cell_type": "code",
   "execution_count": 24,
   "metadata": {},
   "outputs": [
    {
     "name": "stdout",
     "output_type": "stream",
     "text": [
      "v1\n"
     ]
    }
   ],
   "source": [
    "a = {'k1':'v1', 'k2':'v2'}\n",
    "print(a['k1'])"
   ]
  },
  {
   "cell_type": "markdown",
   "metadata": {},
   "source": [
    "### セット\n",
    "\n",
    "セットは順序付けされていない値の集合．主に集合演算をやるために使う．中括弧`{ }`で囲み，value のみを並べる．"
   ]
  },
  {
   "cell_type": "code",
   "execution_count": 26,
   "metadata": {},
   "outputs": [],
   "source": [
    "a = {1, 2, 3, 4}"
   ]
  },
  {
   "cell_type": "markdown",
   "metadata": {},
   "source": [
    "順序は決まっていないので，リストのようにインデックスで要素を指定することはできず，エラーになる．"
   ]
  },
  {
   "cell_type": "code",
   "execution_count": 28,
   "metadata": {},
   "outputs": [
    {
     "ename": "TypeError",
     "evalue": "'set' object does not support indexing",
     "output_type": "error",
     "traceback": [
      "\u001b[0;31m---------------------------------------------------------------------------\u001b[0m",
      "\u001b[0;31mTypeError\u001b[0m                                 Traceback (most recent call last)",
      "\u001b[0;32m<ipython-input-28-434ad6561f14>\u001b[0m in \u001b[0;36m<module>\u001b[0;34m\u001b[0m\n\u001b[0;32m----> 1\u001b[0;31m \u001b[0mprint\u001b[0m\u001b[0;34m(\u001b[0m\u001b[0ma\u001b[0m\u001b[0;34m[\u001b[0m\u001b[0;36m2\u001b[0m\u001b[0;34m]\u001b[0m\u001b[0;34m)\u001b[0m\u001b[0;34m\u001b[0m\u001b[0;34m\u001b[0m\u001b[0m\n\u001b[0m",
      "\u001b[0;31mTypeError\u001b[0m: 'set' object does not support indexing"
     ]
    }
   ],
   "source": [
    "print(a[2])"
   ]
  },
  {
   "cell_type": "markdown",
   "metadata": {},
   "source": [
    "## 操作\n",
    "\n",
    "Python は上に挙げたデータ構造に対して，いろいろと柔軟な操作ができる．\n",
    "\n",
    "### スライシング\n",
    "\n",
    "Python のリストは単純な要素番号 (インデックス) だけでなく，スライスによる範囲指定ができる．スライスは `start:stop[:step]` の形式で記述する．"
   ]
  },
  {
   "cell_type": "code",
   "execution_count": 49,
   "metadata": {},
   "outputs": [
    {
     "name": "stdout",
     "output_type": "stream",
     "text": [
      "[3, 4, 5]\n",
      "[3, 4, 5, 6, 7, 8, 9]\n",
      "[0, 1, 2, 3, 4, 5]\n",
      "[3, 5]\n",
      "[]\n",
      "[0, 1, 2, 3, 4, 5, 6, 7, 8]\n"
     ]
    }
   ],
   "source": [
    "a = [0, 1, 2, 3, 4, 5, 6, 7, 8, 9]\n",
    "\n",
    "print(a[3:6])\n",
    "print(a[3:])\n",
    "print(a[:6])\n",
    "print(a[3:6:2])\n",
    "print(a[5:4])\n",
    "\n",
    "print(a[0:9])"
   ]
  },
  {
   "cell_type": "markdown",
   "metadata": {},
   "source": [
    "start を省略した場合は先頭，stop を省略したときは末尾となる．start > stop を指定すると，その範囲が存在しないので空のリストになる．\n",
    "\n",
    "注意として，スライスした結果に `a[start]` は**含まれる**が，`a[stop]`は**含まれない**．"
   ]
  },
  {
   "cell_type": "code",
   "execution_count": 50,
   "metadata": {},
   "outputs": [
    {
     "name": "stdout",
     "output_type": "stream",
     "text": [
      "[0, 1, 2, 3, 4, 5, 6, 7, 8, 9]\n",
      "[0, 1, 2, 3, 4, 5, 6, 7, 8]\n"
     ]
    }
   ],
   "source": [
    "print(a[:])\n",
    "print(a[0:9])"
   ]
  },
  {
   "cell_type": "markdown",
   "metadata": {},
   "source": [
    "さらに，start, stop, step の値には負の値を指定することができる．"
   ]
  },
  {
   "cell_type": "code",
   "execution_count": 40,
   "metadata": {},
   "outputs": [
    {
     "name": "stdout",
     "output_type": "stream",
     "text": [
      "[7, 8, 9]\n",
      "[0, 1, 2, 3, 4, 5, 6]\n",
      "[2, 3, 4, 5, 6, 7]\n",
      "[9, 8, 7, 6, 5, 4, 3, 2, 1, 0]\n"
     ]
    }
   ],
   "source": [
    "print(a[-3:])\n",
    "print(a[:-3])\n",
    "print(a[2:-2])\n",
    "print(a[::-1])"
   ]
  },
  {
   "cell_type": "markdown",
   "metadata": {},
   "source": [
    "startとstop に負の値を指定した場合は，末尾からの相対位置を示す．`[-3:]` は「後ろから3番目から，末尾まで」，`[:-3]` は「先頭から，末尾から3番目まで」，`[2:-2]` は「2番目から，末尾から2番目まで」となる．\n",
    "\n",
    "step を負の値にすると，結果が末尾からの順となる，`[::-1]` は「末尾から先頭まで」となり，リストの順番を反転させる．"
   ]
  },
  {
   "cell_type": "markdown",
   "metadata": {},
   "source": [
    "多次元のスライシングは多次元配列からある範囲を切り取る…という動作を期待したいところだが，標準リストでは(簡単には)できないので，素直に numpy を使おう．一応やってみると，"
   ]
  },
  {
   "cell_type": "code",
   "execution_count": 61,
   "metadata": {},
   "outputs": [
    {
     "name": "stdout",
     "output_type": "stream",
     "text": [
      "[['a', 'b', 'c', 'd', 'e'], ['A', 'B', 'C', 'D', 'E']]\n"
     ]
    }
   ],
   "source": [
    "a = [[0, 1, 2, 3, 4], ['a', 'b', 'c', 'd', 'e'], ['A', 'B', 'C', 'D', 'E'], ['p', 'q', 'r', 's', 't'], ['P', 'Q', 'R', 'S', 'T']]\n",
    "\n",
    "print(a[1:4][0:2])"
   ]
  },
  {
   "cell_type": "markdown",
   "metadata": {},
   "source": [
    "期待としては 「2行目から4行目，1列目から2列目」を切り出して`[['a', 'b'], ['A', 'B'], ['p', 'q']]` を返して欲しいところだが，標準リストでは 「`a[1:4]` でスライスしたものをさらに `[0:2]` でスライスする」になってしまい，上のような結果になる．\n",
    "\n",
    "numpy ではスライスをコンマで並べる `[1:4, 0:2]` の書き方で望んだ結果を得ることができる．numpy については付録2で詳しく説明するが，下のようにできる．"
   ]
  },
  {
   "cell_type": "code",
   "execution_count": 62,
   "metadata": {},
   "outputs": [
    {
     "name": "stdout",
     "output_type": "stream",
     "text": [
      "[['a' 'b']\n",
      " ['A' 'B']\n",
      " ['p' 'q']]\n"
     ]
    }
   ],
   "source": [
    "import numpy as np\n",
    "\n",
    "an = np.array(a)\n",
    "\n",
    "print(an[1:4, 0:2])"
   ]
  },
  {
   "cell_type": "markdown",
   "metadata": {},
   "source": [
    "### 内包表記\n",
    "\n",
    "内包表記 (comprehension) とは，リストに対する操作から新しいリストを生成するときの書き方で，\n",
    "\n",
    "`[expr for val in list if condition]`\n",
    "\n",
    "と書くことで，「`list` 中の各要素で条件 `condition` を満たすものについて `expr` を適用したもののリスト」ができる．"
   ]
  },
  {
   "cell_type": "code",
   "execution_count": 66,
   "metadata": {},
   "outputs": [
    {
     "name": "stdout",
     "output_type": "stream",
     "text": [
      "['6', '7', '8', '9']\n"
     ]
    }
   ],
   "source": [
    "a = [0, 1, 2, 3, 4, 5, 6, 7, 8, 9]\n",
    "b= [str(x) for x in a if x > 5]\n",
    "print(b)"
   ]
  },
  {
   "cell_type": "markdown",
   "metadata": {},
   "source": [
    "これは「リスト a の中から，5より大きいものについて文字列に変換したもののリスト」になっている．内包表記を使わない場合には"
   ]
  },
  {
   "cell_type": "code",
   "execution_count": 65,
   "metadata": {},
   "outputs": [
    {
     "name": "stdout",
     "output_type": "stream",
     "text": [
      "['6', '7', '8', '9']\n"
     ]
    }
   ],
   "source": [
    "b = []\n",
    "for x in a:\n",
    "    if x > 5:\n",
    "        b.append(str(x))\n",
    "\n",
    "print(b)"
   ]
  },
  {
   "cell_type": "markdown",
   "metadata": {},
   "source": [
    "のようになる．これを1行で書けるのが内包表記である．なお if以降は省略可能で，その場合は if文が常に TRUE として扱われる．"
   ]
  },
  {
   "cell_type": "code",
   "execution_count": null,
   "metadata": {},
   "outputs": [],
   "source": []
  }
 ],
 "metadata": {
  "kernelspec": {
   "display_name": "Python 3",
   "language": "python",
   "name": "python3"
  },
  "language_info": {
   "codemirror_mode": {
    "name": "ipython",
    "version": 3
   },
   "file_extension": ".py",
   "mimetype": "text/x-python",
   "name": "python",
   "nbconvert_exporter": "python",
   "pygments_lexer": "ipython3",
   "version": "3.6.9"
  }
 },
 "nbformat": 4,
 "nbformat_minor": 4
}
