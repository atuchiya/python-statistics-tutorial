{
 "cells": [
  {
   "cell_type": "markdown",
   "metadata": {},
   "source": [
    "# 付録2： Numpy"
   ]
  },
  {
   "cell_type": "markdown",
   "metadata": {},
   "source": [
    "Numpy は数値計算のためのパッケージで，配列を標準のリストではなく ndarray で扱う．\n",
    "ある程度大きい配列や多次元の配列を扱う場合は Numpy の方が圧倒的に楽である．しかも速い．\n",
    "ここでは主に標準のリストとの違いを説明する．"
   ]
  },
  {
   "cell_type": "markdown",
   "metadata": {},
   "source": [
    "## 型\n",
    "\n",
    "Numpy は数値計算を主眼に置いているので，基本的に数値データを扱う．数値データが扱えないわけではないが，時系列を見るための datetime が扱えない．時系列データを扱う場合は Pandas を使おう．"
   ]
  },
  {
   "cell_type": "markdown",
   "metadata": {},
   "source": [
    "## 配列の演算\n",
    "\n",
    "リストと ndarray の大きな違いの一つは，配列への演算の挙動である．ndarray の演算はほとんどの場合，ベクトル演算になる．\n",
    "まず標準のリストに対して演算を行うとどうなるか試してみると，"
   ]
  },
  {
   "cell_type": "code",
   "execution_count": 2,
   "metadata": {},
   "outputs": [
    {
     "name": "stdout",
     "output_type": "stream",
     "text": [
      "[1, 2, 3, 4, 5, 6, 7, 8, 9, 10]\n",
      "[1, 2, 3, 4, 5, 1, 2, 3, 4, 5, 1, 2, 3, 4, 5]\n"
     ]
    }
   ],
   "source": [
    "a = [1, 2, 3, 4, 5]\n",
    "b = [6, 7, 8, 9, 10]\n",
    "\n",
    "print(a + b)\n",
    "print(a * 3)"
   ]
  },
  {
   "cell_type": "markdown",
   "metadata": {},
   "source": [
    "「+」はリストの連結，「\\* n」はリストを n回繰り返したものになる．一方で numpy では"
   ]
  },
  {
   "cell_type": "code",
   "execution_count": 24,
   "metadata": {},
   "outputs": [
    {
     "name": "stdout",
     "output_type": "stream",
     "text": [
      "[ 7  9 11 13 15]\n",
      "[ 3  6  9 12 15]\n"
     ]
    }
   ],
   "source": [
    "import numpy as np\n",
    "\n",
    "a = np.array([1, 2, 3, 4, 5])\n",
    "b = np.array([6, 7, 8, 9, 10])\n",
    "\n",
    "print(a + b)\n",
    "print(a * 3)"
   ]
  },
  {
   "cell_type": "markdown",
   "metadata": {},
   "source": [
    "となり，「+」は各要素ごとの和，「\\* n」は各要素に n をかけたものになる．ベクトルの和，ベクトルとスカラの積に対応している．ちなみに配列同士のかけ算はリストではできないが，ndarray は要素ごとのかけ算となる．"
   ]
  },
  {
   "cell_type": "code",
   "execution_count": 25,
   "metadata": {},
   "outputs": [
    {
     "name": "stdout",
     "output_type": "stream",
     "text": [
      "[ 6 14 24 36 50]\n"
     ]
    }
   ],
   "source": [
    "print(a * b)"
   ]
  },
  {
   "cell_type": "markdown",
   "metadata": {},
   "source": [
    "内積とか外積ではなく，アダマール積である．ベクトル積が必要な場合はそれぞれに対応した関数を使う．\n",
    "注意することとして，ndarray で算術演算をする場合には ndarray のサイズが同じでなければエラーになる．\n",
    "\n",
    "また，numpy 中の関数は同様に ndarray を引数にとり，その要素全てに関数を適用する，という動作をする (ユニバーサル関数)．"
   ]
  },
  {
   "cell_type": "code",
   "execution_count": 27,
   "metadata": {},
   "outputs": [
    {
     "name": "stdout",
     "output_type": "stream",
     "text": [
      "[1.         1.41421356 1.73205081 2.         2.23606798]\n",
      "[0 1 2 1 0]\n"
     ]
    }
   ],
   "source": [
    "# 単項ufunc\n",
    "print(np.sqrt(a))\n",
    "\n",
    "# 二項ufunc\n",
    "print(np.mod(b, a))"
   ]
  },
  {
   "cell_type": "markdown",
   "metadata": {},
   "source": [
    "## スライシング\n",
    "\n",
    "リストのところでも触れたように，ndarray ではスライスが多次元でも使えてものすごく便利である．"
   ]
  },
  {
   "cell_type": "code",
   "execution_count": 37,
   "metadata": {},
   "outputs": [
    {
     "name": "stdout",
     "output_type": "stream",
     "text": [
      "[['B' 'C']\n",
      " ['q' 'r']\n",
      " ['Q' 'R']]\n"
     ]
    }
   ],
   "source": [
    "a = [[0, 1, 2, 3, 4], \n",
    "     ['a', 'b', 'c', 'd', 'e'], \n",
    "     ['A', 'B', 'C', 'D', 'E'], \n",
    "     ['p', 'q', 'r', 's', 't'], \n",
    "     ['P', 'Q', 'R', 'S', 'T']]\n",
    "a_n = np.array(a)\n",
    "\n",
    "print(a_n[2:5, 1:3])"
   ]
  },
  {
   "cell_type": "markdown",
   "metadata": {},
   "source": [
    "また，インデックスにTrue, False のリストを指定し，True の位置にあるものだけを抜き出すブールインデックス参照というのもできる．"
   ]
  },
  {
   "cell_type": "code",
   "execution_count": 39,
   "metadata": {},
   "outputs": [
    {
     "name": "stdout",
     "output_type": "stream",
     "text": [
      "[1 4]\n"
     ]
    }
   ],
   "source": [
    "a = np.array([1, 2, 3, 4, 5])\n",
    "bidx = [True, False, False, True, False]\n",
    "\n",
    "print(a[bidx])"
   ]
  },
  {
   "cell_type": "markdown",
   "metadata": {},
   "source": [
    "この機能をそのまま使うことはあまりないが，比較演算子との組み合わせで非常に強力な機能を提供する．\n",
    "上の演算のところで説明したように，ndarray に演算子を適用すると要素ごとに演算した結果を返す．これは算術演算だけでなく比較演算にも有効で，"
   ]
  },
  {
   "cell_type": "code",
   "execution_count": 40,
   "metadata": {},
   "outputs": [
    {
     "name": "stdout",
     "output_type": "stream",
     "text": [
      "[False False False  True  True]\n"
     ]
    }
   ],
   "source": [
    "a = np.array([1, 2, 3, 4, 5])\n",
    "print(a > 3)"
   ]
  },
  {
   "cell_type": "markdown",
   "metadata": {},
   "source": [
    "というように True/False のndarray を簡単に作ることができる．つまり，"
   ]
  },
  {
   "cell_type": "code",
   "execution_count": 41,
   "metadata": {},
   "outputs": [
    {
     "name": "stdout",
     "output_type": "stream",
     "text": [
      "[4 5]\n"
     ]
    }
   ],
   "source": [
    "print(a[a > 3])"
   ]
  },
  {
   "cell_type": "markdown",
   "metadata": {},
   "source": [
    "のように「3より大きい要素を抜き出す」操作が書ける．`a > 3` がまず a>3 を満たすところだけが True の配列を作り，それをブールインデックスとしてスライシングしている．\n",
    "\n",
    "もちろん多次元で通常の範囲指定と併用可能である．「2行目で 0より大きいもの」が欲しければ以下のように書けばよい．"
   ]
  },
  {
   "cell_type": "code",
   "execution_count": 51,
   "metadata": {},
   "outputs": [
    {
     "name": "stdout",
     "output_type": "stream",
     "text": [
      "[[-0.06326376 -0.77788805 -0.16812993  0.16772988  0.61138809]\n",
      " [ 0.2462664   0.20014139  1.38023302 -1.71574742 -1.04104565]\n",
      " [ 1.49008021  0.51533028 -0.43213365  0.58712364 -0.03589899]\n",
      " [-0.30803616 -0.00578722  0.18409996 -0.16635324  0.47237809]\n",
      " [ 0.13088245  0.05121704 -0.25228624 -1.38597913 -0.53716834]]\n",
      "[0.2462664  0.20014139 1.38023302]\n"
     ]
    }
   ],
   "source": [
    "a = np.random.randn(5, 5)\n",
    "print(a)\n",
    "\n",
    "print(a[1, a[1]>0])"
   ]
  },
  {
   "cell_type": "markdown",
   "metadata": {},
   "source": [
    "## スライス結果の扱い\n",
    "\n",
    "ndarray のスライシングで注意しないといけないのは，スライスの結果の扱いである．ndarray のスライシングは，**スライスで指定された領域への参照 (ビュー)** を返す．つまり切り出された結果を要素にもつ新しい ndarray を作るわけではない．標準のリストでスライスが**切り出された要素をもつ新しいリスト**を返すのと異なるので，注意が必要．\n",
    "\n",
    "まずは標準のリストの挙動を見ると，"
   ]
  },
  {
   "cell_type": "code",
   "execution_count": 5,
   "metadata": {},
   "outputs": [
    {
     "name": "stdout",
     "output_type": "stream",
     "text": [
      "[1, 2, 3, 4, 5]\n",
      "[3, 4]\n",
      "[1, 2, 3, 4, 5]\n",
      "[3, 6]\n"
     ]
    }
   ],
   "source": [
    "a = [1, 2, 3, 4, 5]\n",
    "b = a[2:4]\n",
    "print(a)\n",
    "print(b)\n",
    "\n",
    "b[1] = 6\n",
    "print(a)\n",
    "print(b)"
   ]
  },
  {
   "cell_type": "markdown",
   "metadata": {},
   "source": [
    "スライス `a[2:4]` は `[3, 4]` という**新しいリスト**を作るので，b に代入されるのはその新しいリストへの参照ということになる．つまり a と b は完全に別のリストなので，b の要素を更新しても a の要素は変わらない．同じようなことを ndarray でやってみると，"
   ]
  },
  {
   "cell_type": "code",
   "execution_count": 6,
   "metadata": {},
   "outputs": [
    {
     "name": "stdout",
     "output_type": "stream",
     "text": [
      "[1 2 3 4 5]\n",
      "[3 4]\n",
      "[1 2 3 6 5]\n",
      "[3 6]\n"
     ]
    }
   ],
   "source": [
    "a = np.array([1, 2, 3, 4, 5])\n",
    "b = a[2:4]\n",
    "print(a)\n",
    "print(b)\n",
    "\n",
    "b[1] = 6\n",
    "print(a)\n",
    "print(b)"
   ]
  },
  {
   "cell_type": "markdown",
   "metadata": {},
   "source": [
    "となる．`b[1] = 6` によって **a の要素も変わっている**．つまり b は a のある一部を指しているだけで，ndarray の実体は1つしかない．そのため，b を介して値を変えると，その参照先である a の要素も更新される．\n",
    "\n",
    "明示的なコピー`copy()`や一部の操作 (ブールインデックスとか) を除き，ndarray はコピーが作られることはない．もともとndarray は巨大なデータ構造を扱うためのものなので，操作ごとにコピーを作っていてはメモリなどが大変なことになるから，らしい．"
   ]
  },
  {
   "cell_type": "markdown",
   "metadata": {},
   "source": [
    "## 速度\n",
    "\n",
    "Numpy は速い．どのぐらい速いか標準リストと同じ処理で比べてみると，"
   ]
  },
  {
   "cell_type": "code",
   "execution_count": 19,
   "metadata": {},
   "outputs": [],
   "source": [
    "array_n = np.random.randn(1, 100000)\n",
    "array_s = array_n.tolist()"
   ]
  },
  {
   "cell_type": "code",
   "execution_count": 20,
   "metadata": {},
   "outputs": [
    {
     "name": "stdout",
     "output_type": "stream",
     "text": [
      "CPU times: user 1.37 ms, sys: 0 ns, total: 1.37 ms\n",
      "Wall time: 933 µs\n"
     ]
    }
   ],
   "source": [
    "%time for _ in range(10): array_n = array_n * 2"
   ]
  },
  {
   "cell_type": "code",
   "execution_count": 21,
   "metadata": {},
   "outputs": [
    {
     "name": "stdout",
     "output_type": "stream",
     "text": [
      "CPU times: user 529 ms, sys: 346 ms, total: 875 ms\n",
      "Wall time: 868 ms\n"
     ]
    }
   ],
   "source": [
    "%time for _ in range(10): array_s = [x * 2 for x in array_s ]"
   ]
  },
  {
   "cell_type": "markdown",
   "metadata": {},
   "source": [
    "ということで，Numpy でやった方が1000倍近く速い．"
   ]
  },
  {
   "cell_type": "code",
   "execution_count": null,
   "metadata": {},
   "outputs": [],
   "source": []
  }
 ],
 "metadata": {
  "kernelspec": {
   "display_name": "Python 3",
   "language": "python",
   "name": "python3"
  },
  "language_info": {
   "codemirror_mode": {
    "name": "ipython",
    "version": 3
   },
   "file_extension": ".py",
   "mimetype": "text/x-python",
   "name": "python",
   "nbconvert_exporter": "python",
   "pygments_lexer": "ipython3",
   "version": "3.6.9"
  }
 },
 "nbformat": 4,
 "nbformat_minor": 2
}
